{
  "nbformat": 4,
  "nbformat_minor": 0,
  "metadata": {
    "colab": {
      "provenance": [],
      "authorship_tag": "ABX9TyMgKrm2KS5qqBD+P6qtXsr3",
      "include_colab_link": true
    },
    "kernelspec": {
      "name": "python3",
      "display_name": "Python 3"
    },
    "language_info": {
      "name": "python"
    }
  },
  "cells": [
    {
      "cell_type": "markdown",
      "metadata": {
        "id": "view-in-github",
        "colab_type": "text"
      },
      "source": [
        "<a href=\"https://colab.research.google.com/github/Apelsin4ik88/HomeWork/blob/main/HW%202.ipynb\" target=\"_parent\"><img src=\"https://colab.research.google.com/assets/colab-badge.svg\" alt=\"Open In Colab\"/></a>"
      ]
    },
    {
      "cell_type": "code",
      "execution_count": 13,
      "metadata": {
        "colab": {
          "base_uri": "https://localhost:8080/"
        },
        "id": "0v5mvziHGIBb",
        "outputId": "5502f8e5-4fa7-4b13-f518-6efbf740a80f"
      },
      "outputs": [
        {
          "output_type": "stream",
          "name": "stdout",
          "text": [
            "a=-2\n",
            "-4\n"
          ]
        }
      ],
      "source": [
        "a=int(input('a='))\n",
        "if a>0:\n",
        "  a=a+1\n",
        "else:\n",
        "  a=a-2\n",
        "print(a)"
      ]
    },
    {
      "cell_type": "code",
      "source": [
        "\n"
      ],
      "metadata": {
        "id": "i1xKSAUianhx"
      },
      "execution_count": null,
      "outputs": []
    },
    {
      "cell_type": "code",
      "source": [
        "a=int(input('a='))\n",
        "b=int(input('b='))\n",
        "c=int(input('c='))\n",
        "if a<b and b<c:\n",
        "  a=a*2\n",
        "  b=b*2\n",
        "  c=c*2\n",
        "else:\n",
        "  a=a*(-1)\n",
        "  b=b*(-1)\n",
        "  c=c*(-1)\n",
        "print(a,b,c)"
      ],
      "metadata": {
        "colab": {
          "base_uri": "https://localhost:8080/"
        },
        "id": "OdEjPqJjIV25",
        "outputId": "ab561ff9-7161-4bae-d871-4a6f98c4b074"
      },
      "execution_count": 14,
      "outputs": [
        {
          "output_type": "stream",
          "name": "stdout",
          "text": [
            "a=1\n",
            "b=2\n",
            "c=-3\n",
            "-1 -2 3\n"
          ]
        }
      ]
    },
    {
      "cell_type": "code",
      "source": [
        "a=int(input('a='))\n",
        "b=int(input('b='))\n",
        "c=int(input('c='))\n",
        "z=0\n",
        "if a>0:\n",
        "  z=z+1\n",
        "if b>0:\n",
        "  z=z+1\n",
        "if c>0:\n",
        "  z=z+1\n",
        "print(z)\n",
        "'''kolve polozit'''"
      ],
      "metadata": {
        "colab": {
          "base_uri": "https://localhost:8080/",
          "height": 107
        },
        "id": "Rw0QkTsUKOqE",
        "outputId": "77b9892f-aabd-4135-c4df-a2eabcacbb93"
      },
      "execution_count": 31,
      "outputs": [
        {
          "output_type": "stream",
          "name": "stdout",
          "text": [
            "a=-5\n",
            "b=17\n",
            "c=5\n",
            "2\n"
          ]
        },
        {
          "output_type": "execute_result",
          "data": {
            "text/plain": [
              "'kolve polozit'"
            ],
            "application/vnd.google.colaboratory.intrinsic+json": {
              "type": "string"
            }
          },
          "metadata": {},
          "execution_count": 31
        }
      ]
    },
    {
      "cell_type": "code",
      "source": [],
      "metadata": {
        "id": "vBFJzXbEO_kQ"
      },
      "execution_count": null,
      "outputs": []
    },
    {
      "cell_type": "code",
      "source": [
        "a=int(input('a='))\n",
        "b=int(input('b='))\n",
        "c=int(input('c='))\n",
        "z=0\n",
        "if a>0:\n",
        "  z=z+1\n",
        "if b>0:\n",
        "  z=z+1\n",
        "if c>0:\n",
        "  z=z+1\n",
        "\n",
        "v=0\n",
        "if a<0:\n",
        "  v=v+1\n",
        "if b<0:\n",
        "  v=z+1\n",
        "if c<0:\n",
        "  v=z+1\n",
        "print(z, v, 3-z-v)"
      ],
      "metadata": {
        "colab": {
          "base_uri": "https://localhost:8080/"
        },
        "id": "L-PpwexMNCj1",
        "outputId": "41bbc4ad-63fd-4399-a558-5fc8724ed2a5"
      },
      "execution_count": 23,
      "outputs": [
        {
          "output_type": "stream",
          "name": "stdout",
          "text": [
            "a=1\n",
            "b=1\n",
            "c=1\n",
            "3 0 0\n"
          ]
        }
      ]
    },
    {
      "cell_type": "code",
      "source": [
        "a=int(input('a='))\n",
        "b=int(input('b='))\n",
        "\n",
        "if a>b:\n",
        "  print(a)\n",
        "else:\n",
        "  print(b)\n",
        "'''kakoe bolse'''"
      ],
      "metadata": {
        "id": "u6g4dD4AN4PT"
      },
      "execution_count": null,
      "outputs": []
    },
    {
      "cell_type": "code",
      "source": [
        "a=int(input('a='))\n",
        "b=int(input('b='))\n",
        "c=int(input('c='))\n",
        "mx=a\n",
        "if mx<b:\n",
        "  mx=b\n",
        "if mx<c:\n",
        "  mx=c\n",
        "print(mx)\n",
        "'''kakoe bolse 2ver'''"
      ],
      "metadata": {
        "colab": {
          "base_uri": "https://localhost:8080/",
          "height": 107
        },
        "id": "eXQpdKfROwGJ",
        "outputId": "1c7b9616-5edd-42eb-dbd8-2f229492bb5c"
      },
      "execution_count": 26,
      "outputs": [
        {
          "output_type": "stream",
          "name": "stdout",
          "text": [
            "a=3\n",
            "b=6\n",
            "c=5\n",
            "6\n"
          ]
        },
        {
          "output_type": "execute_result",
          "data": {
            "text/plain": [
              "'kakoe bolse 2fer'"
            ],
            "application/vnd.google.colaboratory.intrinsic+json": {
              "type": "string"
            }
          },
          "metadata": {},
          "execution_count": 26
        }
      ]
    },
    {
      "cell_type": "code",
      "source": [
        "a=int(input('a='))\n",
        "b=int(input('b='))\n",
        "c=int(input('c='))\n",
        "mx=a\n",
        "if mx<b:\n",
        "  mx=b\n",
        "if mx<c:\n",
        "  mx=c\n",
        "mn=a\n",
        "if mn>b:\n",
        "  mn=b\n",
        "if mn>c:\n",
        "  mn=c\n",
        "s=(a+b+c)-mx-mn\n",
        "print(s)"
      ],
      "metadata": {
        "colab": {
          "base_uri": "https://localhost:8080/"
        },
        "id": "vLgZ2ADjRpq9",
        "outputId": "8df45ffe-0234-418a-c3e0-272f16f4c015"
      },
      "execution_count": 27,
      "outputs": [
        {
          "output_type": "stream",
          "name": "stdout",
          "text": [
            "a=6\n",
            "b=7\n",
            "c=9\n",
            "7\n"
          ]
        }
      ]
    },
    {
      "cell_type": "code",
      "source": [
        "a=int(input('a='))\n",
        "b=int(input('b='))\n",
        "c=int(input('c='))\n",
        "k=0\n",
        "if a==b and b !=c:\n",
        "  k=3\n",
        "if a==c and c !=b:\n",
        "  k=2\n",
        "if b==c and a !=c:\n",
        "  k=1\n",
        "print(k)"
      ],
      "metadata": {
        "colab": {
          "base_uri": "https://localhost:8080/"
        },
        "id": "879GpOg3T65M",
        "outputId": "40f06fb8-b2b4-44a8-aecd-4ed9583df3b6"
      },
      "execution_count": 30,
      "outputs": [
        {
          "output_type": "stream",
          "name": "stdout",
          "text": [
            "a=12\n",
            "b=13\n",
            "c=24\n",
            "0\n"
          ]
        }
      ]
    },
    {
      "cell_type": "code",
      "source": [
        "a=int(input('a='))\n",
        "b=int(input('b='))\n",
        "x=int(input('x='))\n",
        "b=-2*x+3*x**2+4*x**3\n",
        "print(x)"
      ],
      "metadata": {
        "id": "MIYuOYsfbpCs"
      },
      "execution_count": null,
      "outputs": []
    }
  ]
}