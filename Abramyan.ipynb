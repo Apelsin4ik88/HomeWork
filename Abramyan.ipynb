{
  "nbformat": 4,
  "nbformat_minor": 0,
  "metadata": {
    "colab": {
      "provenance": [],
      "authorship_tag": "ABX9TyMASxeMa6i1Uw/fJvLw2fLE",
      "include_colab_link": true
    },
    "kernelspec": {
      "name": "python3",
      "display_name": "Python 3"
    },
    "language_info": {
      "name": "python"
    }
  },
  "cells": [
    {
      "cell_type": "markdown",
      "metadata": {
        "id": "view-in-github",
        "colab_type": "text"
      },
      "source": [
        "<a href=\"https://colab.research.google.com/github/Apelsin4ik88/HomeWork/blob/main/Abramyan.ipynb\" target=\"_parent\"><img src=\"https://colab.research.google.com/assets/colab-badge.svg\" alt=\"Open In Colab\"/></a>"
      ]
    },
    {
      "cell_type": "code",
      "execution_count": 6,
      "metadata": {
        "colab": {
          "base_uri": "https://localhost:8080/"
        },
        "id": "_ceXe-xvMX1q",
        "outputId": "38e5dcf2-f3ac-4749-ec20-5806354e55d2"
      },
      "outputs": [
        {
          "output_type": "stream",
          "name": "stdout",
          "text": [
            "R=5\n",
            "D=10, L=31.400000000000002\n"
          ]
        }
      ],
      "source": [
        "R=(int(input('R=')))\n",
        "pi=3.14\n",
        "D=2*R\n",
        "L=2*pi*R\n",
        "S=pi*R**2\n",
        "print(f\"D={D}, L={L}\")\n",
        "'''Begin 15'''"
      ]
    },
    {
      "cell_type": "code",
      "source": [
        "'''Begin 21'''\n",
        "import math\n",
        "x1=(int(input('x1=')))\n",
        "x2=(int(input('x2=')))\n",
        "x3=(int(input('x3=')))\n",
        "y1=(int(input('y1=')))\n",
        "y2=(int(input('y2=')))\n",
        "y3=(int(input('y3=')))\n",
        "a=(x1,y1)\n",
        "b=(x2,y2)\n",
        "c=(x3,y3)\n",
        "q= math.sqrt((x2-x1)**2+(y2-y1)**2)\n",
        "p=\n",
        "S= math.sqrt(p*(p-a)*(p-b)*(p-c))"
      ],
      "metadata": {
        "id": "CrAYKb23WG-F"
      },
      "execution_count": null,
      "outputs": []
    },
    {
      "cell_type": "code",
      "source": [
        "'''Begin 22'''\n",
        "A=(int(input('B=')))\n",
        "B=(int(input('A=')))\n",
        "print('A=',A)\n",
        "print('B=',B)"
      ],
      "metadata": {
        "colab": {
          "base_uri": "https://localhost:8080/"
        },
        "id": "bSzUBTVeZ_B1",
        "outputId": "70505342-cfa2-4bee-fe80-19684039446b"
      },
      "execution_count": 23,
      "outputs": [
        {
          "output_type": "stream",
          "name": "stdout",
          "text": [
            "B=44\n",
            "A=55\n",
            "A= 44\n",
            "B= 55\n"
          ]
        }
      ]
    },
    {
      "cell_type": "code",
      "source": [
        "'''Begin 32'''\n",
        "Tf=(int(input('Tf=')))\n",
        "Tc=(Tf-32)*5/9\n",
        "print(Tc)\n"
      ],
      "metadata": {
        "colab": {
          "base_uri": "https://localhost:8080/"
        },
        "id": "v_1bQNdRmkxp",
        "outputId": "021e12cd-9d7e-447d-8a88-982bfe07ec30"
      },
      "execution_count": 25,
      "outputs": [
        {
          "output_type": "stream",
          "name": "stdout",
          "text": [
            "Tf=100\n",
            "37.77777777777778\n"
          ]
        }
      ]
    },
    {
      "cell_type": "code",
      "source": [
        "'''Begin 17'''\n"
      ],
      "metadata": {
        "id": "eQ3nBKInnZWp"
      },
      "execution_count": null,
      "outputs": []
    }
  ]
}