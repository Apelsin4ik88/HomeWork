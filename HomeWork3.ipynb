{
  "nbformat": 4,
  "nbformat_minor": 0,
  "metadata": {
    "colab": {
      "provenance": [],
      "authorship_tag": "ABX9TyP4pDG/w+XaQ/R5MPyjyB2V",
      "include_colab_link": true
    },
    "kernelspec": {
      "name": "python3",
      "display_name": "Python 3"
    },
    "language_info": {
      "name": "python"
    }
  },
  "cells": [
    {
      "cell_type": "markdown",
      "metadata": {
        "id": "view-in-github",
        "colab_type": "text"
      },
      "source": [
        "<a href=\"https://colab.research.google.com/github/Apelsin4ik88/HomeWork/blob/main/HomeWork3.ipynb\" target=\"_parent\"><img src=\"https://colab.research.google.com/assets/colab-badge.svg\" alt=\"Open In Colab\"/></a>"
      ]
    },
    {
      "cell_type": "code",
      "execution_count": 4,
      "metadata": {
        "colab": {
          "base_uri": "https://localhost:8080/"
        },
        "id": "V-taIBT3Kr--",
        "outputId": "98ec881a-cbd6-4bf8-b8a1-6b10f0464dac"
      },
      "outputs": [
        {
          "output_type": "stream",
          "name": "stdout",
          "text": [
            "Генерация чисел\n",
            "5\n",
            "683 -- True\n"
          ]
        }
      ],
      "source": [
        "\n",
        "print('Генерация чисел')\n",
        "n=int(input())\n",
        "for x in range(1, n+1):\n",
        "  t=(2**(2*x+1)+1)//3\n",
        "  y=True\n",
        "  for  j in range(2, t//2):\n",
        "    if t%j==0:\n",
        "      y=False\n",
        "      break\n",
        "if 1<=x<=36:\n",
        "  print(t, '--', y)"
      ]
    }
  ]
}